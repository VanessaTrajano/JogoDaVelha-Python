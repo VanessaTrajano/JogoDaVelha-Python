{
  "nbformat": 4,
  "nbformat_minor": 0,
  "metadata": {
    "colab": {
      "provenance": [],
      "authorship_tag": "ABX9TyMbNCOst27Qj8kcU1hlyT/3",
      "include_colab_link": true
    },
    "kernelspec": {
      "name": "python3",
      "display_name": "Python 3"
    },
    "language_info": {
      "name": "python"
    }
  },
  "cells": [
    {
      "cell_type": "markdown",
      "metadata": {
        "id": "view-in-github",
        "colab_type": "text"
      },
      "source": [
        "<a href=\"https://colab.research.google.com/github/VanessaTrajano/JogoDaVelha-Python/blob/main/JogoDaVelha.ipynb\" target=\"_parent\"><img src=\"https://colab.research.google.com/assets/colab-badge.svg\" alt=\"Open In Colab\"/></a>"
      ]
    },
    {
      "cell_type": "code",
      "execution_count": null,
      "metadata": {
        "id": "9_4U_aKbOLGL"
      },
      "outputs": [],
      "source": [
        "vazio = \" \"\n",
        "\n",
        "def criaTabuleito():\n",
        "  tabuleiro = [\n",
        "      [vazio, vazio, vazio],\n",
        "      [vazio, vazio, vazio],\n",
        "      [vazio, vazio, vazio]\n",
        "  ]\n",
        "  return tabuleiro\n",
        "\n",
        "def mostraTabuleiro(tabuleiro):\n",
        "  for i in range(3):\n",
        "    print(\" | \".join(tabuleiro[i]))\n",
        "    if (i < 2):\n",
        "      print(\"----------\")\n",
        "\n",
        "def pegaInputValido(mensagem):\n",
        "  try:\n",
        "    n = int(input(mensagem))\n",
        "    if(n >= 1 and n <= 3):\n",
        "      return n - 1\n",
        "    else:\n",
        "      print(\"Número precisa estar entre 1 e 3\")\n",
        "      return pegaInputValido(mensagem)\n",
        "  except:\n",
        "    print(\"Número não válido\")\n",
        "    return pegaInputValido(mensagem)\n",
        "\n",
        "def verificaMovimento(tabuleiro, i, j):\n",
        "  if(tabuleiro[i][j] == vazio):\n",
        "    return True\n",
        "  else:\n",
        "    return False\n",
        "\n",
        "def fazMovimento(tabuleiro, i, j, jogador):\n",
        "  tabuleiro[i][j] = jogador\n",
        "\n",
        "def verificaGanhador(tabuleiro):\n",
        "  #linha\n",
        "  for i in range(3):\n",
        "    if(tabuleiro[i][0] == tabuleiro[i][1] and tabuleiro[i][1] == tabuleiro[i][2] and tabuleiro[i][0] != vazio):\n",
        "      return tabuleiro[i][0]\n",
        "\n",
        "  #coluna\n",
        "  for i in range(3):\n",
        "    if(tabuleiro[0][i] == tabuleiro[1][i] and tabuleiro[1][i] == tabuleiro[2][i] and tabuleiro[0][i] != vazio):\n",
        "      return tabuleiro[0][i]\n",
        "\n",
        "  # diagonal principal\n",
        "  if(tabuleiro[0][0] != vazio and tabuleiro[0][0] == tabuleiro[1][1] and tabuleiro[1][1] == tabuleiro[2][2]):\n",
        "    return tabuleiro[0][0]\n",
        "\n",
        "  # diagonal secundaria\n",
        "  if(tabuleiro[0][2] != vazio and tabuleiro[0][2] == tabuleiro[1][1] and tabuleiro[1][1] == tabuleiro[2][0]):\n",
        "    return tabuleiro[0][2]\n",
        "\n",
        "  for i in range(3):\n",
        "    for j in range(3):\n",
        "      if(tabuleiro[i][j] == vazio):\n",
        "        return False\n",
        "\n",
        "  return \"Empate\"\n",
        "\n",
        "jogador = \"X\" # jogador = \"O\"\n",
        "tabuleiro = criaTabuleito()\n",
        "ganhador = verificaGanhador(tabuleiro)\n",
        "while(not ganhador):\n",
        "  mostraTabuleiro(tabuleiro)\n",
        "  i = pegaInputValido(\"Digite a linha: \")\n",
        "  j = pegaInputValido(\"Digite a coluna: \")\n",
        "\n",
        "  if(verificaMovimento(tabuleiro, i, j)):\n",
        "    fazMovimento(tabuleiro, i, j, jogador)\n",
        "    if jogador == \"X\":\n",
        "      jogador = \"O\"\n",
        "    else:\n",
        "      jogador = \"X\"\n",
        "  else:\n",
        "    print(\"A posição informada já está ocupada\")\n",
        "\n",
        "  ganhador = verificaGanhador(tabuleiro)\n",
        "\n",
        "print(\"===================\")\n",
        "mostraTabuleiro(tabuleiro)\n",
        "print(\"Ganhador = \", ganhador)\n",
        "print(\"===================\")"
      ]
    }
  ]
}